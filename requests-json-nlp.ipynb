{
 "cells": [
  {
   "cell_type": "markdown",
   "metadata": {},
   "source": [
    "# Web Mining and Applied NLP (44-620)\n",
    "\n",
    "## Requests, JSON, and NLP\n",
    "\n",
    "### Student Name: Carter Smith\n",
    "\n",
    "[Project Repository](https://github.com/cartertrumansmith/p4-nlp)\n",
    "\n",
    "Perform the tasks described in the Markdown cells below.  When you have completed the assignment make sure your code cells have all been run (and have output beneath them) and ensure you have committed and pushed ALL of your changes to your assignment repository.\n",
    "\n",
    "Make sure you have [installed spaCy and its pipeline](https://spacy.io/usage#quickstart) and [spaCyTextBlob](https://spacy.io/universe/project/spacy-textblob)\n",
    "\n",
    "Every question that requires you to write code will have a code cell underneath it; you may either write your entire solution in that cell or write it in a python file (`.py`), then import and run the appropriate code to answer the question.\n",
    "\n",
    "This assignment requires that you write additional files (either JSON or pickle files); make sure to submit those files in your repository as well."
   ]
  },
  {
   "cell_type": "markdown",
   "metadata": {},
   "source": [
    "1. The following code accesses the [lyrics.ovh](https://lyricsovh.docs.apiary.io/#reference/0/lyrics-of-a-song/search) public api, searches for the lyrics of a song, and stores it in a dictionary object.  Write the resulting json to a file (either a JSON file or a pickle file; you choose). You will read in the contents of this file for future questions so we do not need to frequently access the API."
   ]
  },
  {
   "cell_type": "markdown",
   "metadata": {},
   "source": [
    "### Imports/Get from API"
   ]
  },
  {
   "cell_type": "code",
   "execution_count": 79,
   "metadata": {},
   "outputs": [],
   "source": [
    "import requests\n",
    "import json\n",
    "\n",
    "result = json.loads(requests.get('https://api.lyrics.ovh/v1/They Might Be Giants/Birdhouse in your soul').text)\n",
    "\n",
    "def get_lyrics(artist,song):\n",
    "    result = requests.get(f'https://api.lyrics.ovh/v1/{artist}/{song}')\n",
    "    if result.status_code == 200:\n",
    "        result = result.json()\n",
    "\n",
    "        with open(f'{song}_lyrics.json', 'w') as file:\n",
    "            json.dump(result, file, indent=4)\n",
    "\n",
    "    else:\n",
    "        print(\"Not found\")\n",
    "\n",
    "get_lyrics('Glen Campbell','Galveston')\n"
   ]
  },
  {
   "cell_type": "markdown",
   "metadata": {},
   "source": [
    "2. Read in the contents of your file.  Print the lyrics of the song (not the entire dictionary!) and use spaCyTextBlob to perform sentiment analysis on the lyrics.  Print the polarity score of the sentiment analysis.  Given that the range of the polarity score is `[-1.0,1.0]` which corresponds to how positive or negative the text in question is, do you think the lyrics have a more positive or negative connotaion?  Answer this question in a comment in your code cell."
   ]
  },
  {
   "cell_type": "code",
   "execution_count": null,
   "metadata": {},
   "outputs": [
    {
     "name": "stdout",
     "output_type": "stream",
     "text": [
      "Lyrics:\n",
      " Galveston, oh Galveston, I still hear your sea winds blowin'\n",
      "I still see her dark eyes glowin'\n",
      "She was 21 when I left Galveston\n",
      "Galveston, oh Galveston, I still hear your sea waves crashing\n",
      "While I watch the cannons flashing\n",
      "\n",
      "I clean my gun and dream of Galveston\n",
      "\n",
      "\n",
      "\n",
      "I still see her standing by the water\n",
      "\n",
      "Standing there lookin' out to sea\n",
      "\n",
      "And is she waiting there for me?\n",
      "\n",
      "On the beach where we used to run\n",
      "\n",
      "\n",
      "\n",
      "Galveston, oh Galveston, I am so afraid of dying\n",
      "\n",
      "Before I dry the tears she's crying\n",
      "\n",
      "Before I watch your sea birds flying in the sun\n",
      "\n",
      "At Galveston, at Galveston\n",
      "Lyrics:\n",
      " Galveston, oh Galveston, I still hear your sea winds blowin'\n",
      "I still see her dark eyes glowin'\n",
      "She was 21 when I left Galveston\n",
      "Galveston, oh Galveston, I still hear your sea waves crashing\n",
      "While I watch the cannons flashing\n",
      "\n",
      "I clean my gun and dream of Galveston\n",
      "\n",
      "\n",
      "\n",
      "I still see her standing by the water\n",
      "\n",
      "Standing there lookin' out to sea\n",
      "\n",
      "And is she waiting there for me?\n",
      "\n",
      "On the beach where we used to run\n",
      "\n",
      "\n",
      "\n",
      "Galveston, oh Galveston, I am so afraid of dying\n",
      "\n",
      "Before I dry the tears she's crying\n",
      "\n",
      "Before I watch your sea birds flying in the sun\n",
      "\n",
      "At Galveston, at Galveston\n",
      "\n",
      "Polarity Score: -0.10833333333333332\n",
      "The lyrics have a negative connotation.\n"
     ]
    }
   ],
   "source": [
    "import spacy\n",
    "from spacytextblob.spacytextblob import SpacyTextBlob\n",
    "\n",
    "with open('Galveston_lyrics.json', 'r') as file:\n",
    "    song_data = json.load(file)\n",
    "\n",
    "lyrics = song_data.get('lyrics', '')\n",
    "print(\"Lyrics:\\n\", lyrics)\n",
    "\n",
    "lyrics = song_data.get('lyrics', '')\n",
    "print(\"Lyrics:\\n\", lyrics)\n",
    "\n",
    "\n",
    "nlp = spacy.load('en_core_web_sm')\n",
    "if 'spacytextblob' not in nlp.pipe_names:\n",
    "    nlp.add_pipe('spacytextblob')\n",
    "\n",
    "#Perform sentiment analysis on the lyrics\n",
    "doc = nlp(lyrics)\n",
    "polarity_score = doc._.blob.polarity\n",
    "print(\"\\nPolarity Score:\", polarity_score)\n",
    "\n",
    "if polarity_score > 0:\n",
    "    print(\"The lyrics have a positive connotation.\")\n",
    "elif polarity_score < 0:\n",
    "    print(\"The lyrics have a negative connotation.\")\n",
    "else:\n",
    "    print(\"The lyrics are neutral.\")\n",
    "\n"
   ]
  },
  {
   "cell_type": "markdown",
   "metadata": {},
   "source": [
    "3. Write a function that takes an artist, song, and filename, accesses the lyrics.ovh api to get the song lyrics, and writes the results to the specified filename.  Test this function by getting the lyrics to any four songs of your choice and storing them in different files."
   ]
  },
  {
   "cell_type": "code",
   "execution_count": 84,
   "metadata": {},
   "outputs": [],
   "source": [
    "def save_lyrics(artist,song,fname):\n",
    "    result = requests.get(f'https://api.lyrics.ovh/v1/{artist}/{song}')\n",
    "    if result.status_code == 200:\n",
    "        result = result.json()\n",
    "\n",
    "        with open(f'{fname}.json', 'w') as file:\n",
    "            json.dump(result, file, indent=4)\n",
    "\n",
    "    else:\n",
    "        print(\"Not found\")\n",
    "    \n",
    "save_lyrics('Glen Campbell','Wichita Lineman','wichitalineman_lyrics')\n",
    "save_lyrics('Owl City','Fireflies','fireflies_lyrics')\n",
    "save_lyrics('Fleetwood Mac','Everywhere','everywhere_lyrics')"
   ]
  },
  {
   "cell_type": "markdown",
   "metadata": {},
   "source": [
    "4. Write a function that takes the name of a file that contains song lyrics, loads the file, performs sentiment analysis, and returns the polarity score.  Use this function to print the polarity scores (with the name of the song) of the three files you created in question 3.  Does the reported polarity match your understanding of the song's lyrics? Why or why not do you think that might be?  Answer the questions in either a comment in the code cell or a markdown cell under the code cell."
   ]
  },
  {
   "cell_type": "code",
   "execution_count": null,
   "metadata": {},
   "outputs": [
    {
     "name": "stdout",
     "output_type": "stream",
     "text": [
      "\n",
      "Polarity Score for Everywhere: 0.3020833333333333\n",
      "The lyrics have a positive connotation.\n",
      "\n",
      "Polarity Score for Wichita Lineman: 0.1522222222222222\n",
      "The lyrics have a positive connotation.\n",
      "\n",
      "Polarity Score for Fireflies: -0.12333333333333332\n",
      "The lyrics have a negative connotation.\n"
     ]
    }
   ],
   "source": [
    "def get_sentiment(song,song_file):\n",
    "    with open(song_file, 'r') as file:\n",
    "        song_data = json.load(file)\n",
    "\n",
    "    lyrics = song_data.get('lyrics', '')\n",
    "    #print(\"Lyrics:\\n\", lyrics)\n",
    "\n",
    "    lyrics = song_data.get('lyrics', '')\n",
    "    #print(\"Lyrics:\\n\", lyrics)\n",
    "\n",
    "\n",
    "    nlp = spacy.load('en_core_web_sm')\n",
    "    if 'spacytextblob' not in nlp.pipe_names:\n",
    "        nlp.add_pipe('spacytextblob')\n",
    "\n",
    "    #Perform sentiment analysis on the lyrics\n",
    "    doc = nlp(lyrics)\n",
    "    polarity_score = doc._.blob.polarity\n",
    "    print(f\"\\nPolarity Score for {song}:\", polarity_score)\n",
    "\n",
    "    if polarity_score > 0:\n",
    "        print(\"The lyrics have a positive connotation.\")\n",
    "    elif polarity_score < 0:\n",
    "        print(\"The lyrics have a negative connotation.\")\n",
    "    else:\n",
    "        print(\"The lyrics are neutral.\")\n",
    "#this polarity score seems accurate\n",
    "get_sentiment('Everywhere','everywhere_lyrics.json')\n",
    "#the lyrics of this song are more mellow and close to neutral, so is the score\n",
    "get_sentiment('Wichita Lineman','wichitalineman_lyrics.json')\n",
    "#I would have expected Fireflies to be higher, but it may be the melody that makes the song positive and not the lyrics.\n",
    "get_sentiment('Fireflies','fireflies_lyrics.json')\n",
    "\n"
   ]
  }
 ],
 "metadata": {
  "kernelspec": {
   "display_name": ".venv",
   "language": "python",
   "name": "python3"
  },
  "language_info": {
   "codemirror_mode": {
    "name": "ipython",
    "version": 3
   },
   "file_extension": ".py",
   "mimetype": "text/x-python",
   "name": "python",
   "nbconvert_exporter": "python",
   "pygments_lexer": "ipython3",
   "version": "3.12.4"
  }
 },
 "nbformat": 4,
 "nbformat_minor": 4
}
